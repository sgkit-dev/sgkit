{
 "cells": [
  {
   "cell_type": "markdown",
   "id": "2eed0d77",
   "metadata": {},
   "source": [
    "**Step 1**"
   ]
  },
  {
   "cell_type": "code",
   "execution_count": 1,
   "id": "0f337a20-60f4-49f8-b50b-a57d1ef03fcc",
   "metadata": {},
   "outputs": [],
   "source": [
    "WITH_COVARIATE = True"
   ]
  },
  {
   "cell_type": "code",
   "execution_count": 2,
   "id": "040f5da3",
   "metadata": {},
   "outputs": [],
   "source": [
    "import glow\n",
    "glow.register(spark, new_session=False)\n",
    "\n",
    "import pandas as pd \n",
    "from pathlib import Path\n",
    "\n",
    "from pyspark.sql.functions import col\n",
    "\n",
    "import xarray as xr\n",
    "import zarr"
   ]
  },
  {
   "cell_type": "code",
   "execution_count": 3,
   "id": "1b1aa7cb",
   "metadata": {},
   "outputs": [],
   "source": [
    "# Download the zip file mentioned in the link below to target directory and modify the path below as needed:\n",
    "# https://github.com/pystatgen/sgkit/issues/622\n",
    "# Direct link: https://github.com/pystatgen/sgkit/files/6779496/regenie_simulations.zip\n",
    "dsdir = Path('../../../../sgkit/tests/test_regenie/dataset/sim_sm_02')\n",
    "\n",
    "genotypes_vcf = dsdir / 'genotypes.bed'\n",
    "covariates_csv = dsdir / 'covariates.csv'\n",
    "continuous_phenotypes_csv = dsdir / 'traits.csv'"
   ]
  },
  {
   "cell_type": "code",
   "execution_count": 4,
   "id": "9c63cbbf",
   "metadata": {},
   "outputs": [],
   "source": [
    "variants = spark.read.format('plink').load(str(genotypes_vcf), famDelimiter='\\t')\n",
    "genotypes = variants.withColumn('values', glow.mean_substitute(glow.genotype_states(col('genotypes'))))\n",
    "\n",
    "label_df = pd.read_csv(continuous_phenotypes_csv, index_col='sample_id') #[['Continuous_Trait_1', 'Continuous_Trait_2']]\n",
    "label_df = (label_df - label_df.mean()) / label_df.std(ddof=0)\n",
    "\n",
    "if WITH_COVARIATE is True:\n",
    "    covariate_df = pd.read_csv(covariates_csv, index_col='sample_id')\n",
    "    covariate_df = (covariate_df - covariate_df.mean()) / covariate_df.std(ddof=0)\n",
    "    covariate_suffix = \"\"\n",
    "else:\n",
    "    covariate_df = pd.DataFrame()\n",
    "    covariate_suffix = \"_nocovariate\""
   ]
  },
  {
   "cell_type": "code",
   "execution_count": 5,
   "id": "b5b96c81",
   "metadata": {},
   "outputs": [
    {
     "name": "stderr",
     "output_type": "stream",
     "text": [
      "                                                                                \r"
     ]
    }
   ],
   "source": [
    "variants_per_block = 10\n",
    "sample_block_count = 5\n",
    "\n",
    "sample_ids = glow.get_sample_ids(genotypes)\n",
    "sample_ids = [sample_id[2:] for sample_id in sample_ids]\n",
    "\n",
    "block_df, sample_blocks = glow.block_variants_and_samples(genotypes, sample_ids, variants_per_block, sample_block_count)"
   ]
  },
  {
   "cell_type": "code",
   "execution_count": 6,
   "id": "8092d266",
   "metadata": {},
   "outputs": [
    {
     "name": "stdout",
     "output_type": "stream",
     "text": [
      "The label DataFrame is quantitative. Reduction/regression for quantitative phenotypes will be applied.\n",
      "Generated alphas: [252.52525252525254, 333.3333333333333, 500.0, 1000.0, 25000.0]\n"
     ]
    }
   ],
   "source": [
    "reduction = glow.RidgeReduction(block_df, label_df, sample_blocks, covariate_df)"
   ]
  },
  {
   "cell_type": "code",
   "execution_count": 7,
   "id": "4e7475a5",
   "metadata": {},
   "outputs": [],
   "source": [
    "reduced_block_df = reduction.fit_transform()"
   ]
  },
  {
   "cell_type": "code",
   "execution_count": 8,
   "id": "1851c548",
   "metadata": {},
   "outputs": [
    {
     "name": "stderr",
     "output_type": "stream",
     "text": [
      "                                                                                \r"
     ]
    },
    {
     "name": "stdout",
     "output_type": "stream",
     "text": [
      "Generated alphas: [151.51515151515153, 200.0, 300.0, 600.0, 15000.0]\n"
     ]
    }
   ],
   "source": [
    "regression = glow.RidgeRegression.from_ridge_reduction(reduction)\n",
    "model_df, cv_df = regression.fit()"
   ]
  },
  {
   "cell_type": "code",
   "execution_count": null,
   "id": "5726cfb1",
   "metadata": {
    "scrolled": true
   },
   "outputs": [
    {
     "name": "stderr",
     "output_type": "stream",
     "text": [
      "                                                                                \r"
     ]
    },
    {
     "name": "stdout",
     "output_type": "stream",
     "text": [
      "Inferred chromosomes: ['7', '3', '8', '5', '6', '9', '1', '10', '4', '2']\n",
      "Generating predictions for chromosome 1.\n"
     ]
    },
    {
     "name": "stderr",
     "output_type": "stream",
     "text": [
      "21/09/17 15:42:01 WARN DAGScheduler: Broadcasting large task binary with size 1278.7 KiB\n",
      "21/09/17 15:42:04 WARN DAGScheduler: Broadcasting large task binary with size 1294.0 KiB\n",
      "                                                                                \r"
     ]
    },
    {
     "name": "stdout",
     "output_type": "stream",
     "text": [
      "Generating predictions for chromosome 10.\n"
     ]
    },
    {
     "name": "stderr",
     "output_type": "stream",
     "text": [
      "21/09/17 15:42:16 WARN DAGScheduler: Broadcasting large task binary with size 1269.4 KiB\n",
      "21/09/17 15:42:19 WARN DAGScheduler: Broadcasting large task binary with size 1287.0 KiB\n",
      "                                                                                \r"
     ]
    },
    {
     "name": "stdout",
     "output_type": "stream",
     "text": [
      "Generating predictions for chromosome 2.\n"
     ]
    },
    {
     "name": "stderr",
     "output_type": "stream",
     "text": [
      "21/09/17 15:42:31 WARN DAGScheduler: Broadcasting large task binary with size 1269.5 KiB\n",
      "21/09/17 15:42:33 WARN DAGScheduler: Broadcasting large task binary with size 1287.1 KiB\n",
      "                                                                                \r"
     ]
    },
    {
     "name": "stdout",
     "output_type": "stream",
     "text": [
      "Generating predictions for chromosome 3.\n"
     ]
    },
    {
     "name": "stderr",
     "output_type": "stream",
     "text": [
      "21/09/17 15:42:45 WARN DAGScheduler: Broadcasting large task binary with size 1269.4 KiB\n",
      "21/09/17 15:42:48 WARN DAGScheduler: Broadcasting large task binary with size 1287.0 KiB\n",
      "                                                                                \r"
     ]
    },
    {
     "name": "stdout",
     "output_type": "stream",
     "text": [
      "Generating predictions for chromosome 4.\n"
     ]
    },
    {
     "name": "stderr",
     "output_type": "stream",
     "text": [
      "21/09/17 15:43:00 WARN DAGScheduler: Broadcasting large task binary with size 1269.4 KiB\n",
      "21/09/17 15:43:02 WARN DAGScheduler: Broadcasting large task binary with size 1287.0 KiB\n",
      "                                                                                \r"
     ]
    },
    {
     "name": "stdout",
     "output_type": "stream",
     "text": [
      "Generating predictions for chromosome 5.\n"
     ]
    },
    {
     "name": "stderr",
     "output_type": "stream",
     "text": [
      "21/09/17 15:43:14 WARN DAGScheduler: Broadcasting large task binary with size 1269.4 KiB\n",
      "21/09/17 15:43:17 WARN DAGScheduler: Broadcasting large task binary with size 1287.0 KiB\n",
      "                                                                                \r"
     ]
    },
    {
     "name": "stdout",
     "output_type": "stream",
     "text": [
      "Generating predictions for chromosome 6.\n"
     ]
    },
    {
     "name": "stderr",
     "output_type": "stream",
     "text": [
      "21/09/17 15:43:29 WARN DAGScheduler: Broadcasting large task binary with size 1269.4 KiB\n",
      "21/09/17 15:43:32 WARN DAGScheduler: Broadcasting large task binary with size 1287.0 KiB\n",
      "                                                                                \r"
     ]
    },
    {
     "name": "stdout",
     "output_type": "stream",
     "text": [
      "Generating predictions for chromosome 7.\n"
     ]
    },
    {
     "name": "stderr",
     "output_type": "stream",
     "text": [
      "21/09/17 15:43:44 WARN DAGScheduler: Broadcasting large task binary with size 1269.5 KiB\n",
      "21/09/17 15:43:46 WARN DAGScheduler: Broadcasting large task binary with size 1287.1 KiB\n",
      "                                                                                \r"
     ]
    },
    {
     "name": "stdout",
     "output_type": "stream",
     "text": [
      "Generating predictions for chromosome 8.\n"
     ]
    },
    {
     "name": "stderr",
     "output_type": "stream",
     "text": [
      "[Stage 401:=================>                                   (65 + 80) / 200]\r"
     ]
    }
   ],
   "source": [
    "continuous_offsets = regression.transform_loco()"
   ]
  },
  {
   "cell_type": "markdown",
   "id": "80ef6ecc",
   "metadata": {},
   "source": [
    "**Export Offsets**"
   ]
  },
  {
   "cell_type": "code",
   "execution_count": null,
   "id": "efff3dfe",
   "metadata": {},
   "outputs": [],
   "source": [
    "co_df = continuous_offsets.reset_index(level=['sample_id', 'contigName'])\n",
    "co_df['sample_id']=co_df['sample_id'].apply(\n",
    "    lambda m: int(str(m)[-2:])-1\n",
    ")\n",
    "co_df['contigName'] = co_df['contigName'].apply(\n",
    "    lambda m: int(str(m))-1\n",
    ")\n",
    "co_df = co_df.rename(columns= {\n",
    "    'sample_id': 'samples',\n",
    "    'contigName': 'contigs'\n",
    "})\n",
    "\n",
    "co_df = co_df.set_index(['samples', 'contigs'])\n",
    "\n",
    "\n",
    "co = co_df.to_xarray()\n",
    "\n",
    "co=co.assign(regenie_loco_prediction=xr.concat([co.Y0000, co.Y0001, co.Y0002, co.Y0003, co.Y0004], 'outcomes'))\n",
    "co['regenie_loco_prediction'] = co['regenie_loco_prediction'].transpose()\n",
    "\n",
    "\n",
    "glow_offset_path = Path(f'../../../../sgkit/tests/test_regenie/dataset/sim_sm_02/glow_offsets{covariate_suffix}.zarr.zip')\n",
    "store = zarr.ZipStore(str(glow_offset_path), mode='w')\n",
    "co.to_zarr(store)\n",
    "store.close()"
   ]
  },
  {
   "cell_type": "markdown",
   "id": "f9e29f50",
   "metadata": {},
   "source": [
    "**Step 2**"
   ]
  },
  {
   "cell_type": "code",
   "execution_count": null,
   "id": "788c643d",
   "metadata": {},
   "outputs": [],
   "source": [
    "genotypes = (glow.transform('split_multiallelics', variants)\n",
    "    .withColumn('gt', glow.mean_substitute(glow.genotype_states(col('genotypes'))))\n",
    "    .select('contigName', 'start', 'names', 'gt')\n",
    "    .cache())"
   ]
  },
  {
   "cell_type": "code",
   "execution_count": null,
   "id": "07af7e94",
   "metadata": {},
   "outputs": [],
   "source": [
    "lin_reg_df = glow.gwas.linear_regression(\n",
    "    genotypes,\n",
    "    label_df,\n",
    "    covariate_df,\n",
    "    offset_df=continuous_offsets,\n",
    "    values_column='gt'\n",
    "  )"
   ]
  },
  {
   "cell_type": "code",
   "execution_count": null,
   "id": "821effad",
   "metadata": {},
   "outputs": [],
   "source": [
    "output_path = Path('../../../../sgkit/tests/test_regenie/result/sim_sm_02-wgr_02')"
   ]
  },
  {
   "cell_type": "code",
   "execution_count": null,
   "id": "dfe3e595",
   "metadata": {},
   "outputs": [],
   "source": [
    "# Convert to pandas\n",
    "wgr_gwas = lin_reg_df.toPandas()\n",
    "\n",
    "path = output_path / f'gwas_loco{covariate_suffix}.csv'\n",
    "wgr_gwas.to_csv(path, index=False)"
   ]
  }
 ],
 "metadata": {
  "kernelspec": {
   "display_name": "Python 3 (ipykernel)",
   "language": "python",
   "name": "python3"
  },
  "language_info": {
   "codemirror_mode": {
    "name": "ipython",
    "version": 3
   },
   "file_extension": ".py",
   "mimetype": "text/x-python",
   "name": "python",
   "nbconvert_exporter": "python",
   "pygments_lexer": "ipython3",
   "version": "3.7.10"
  }
 },
 "nbformat": 4,
 "nbformat_minor": 5
}
