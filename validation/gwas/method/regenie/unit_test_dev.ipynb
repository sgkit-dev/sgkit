{
 "cells": [
  {
   "cell_type": "markdown",
   "metadata": {},
   "source": [
    "## REGENIE Unit Test Development"
   ]
  },
  {
   "cell_type": "code",
   "execution_count": 1,
   "metadata": {},
   "outputs": [],
   "source": [
    "import sgkit_plink\n",
    "import pandas as pd\n",
    "import numpy as np\n",
    "import xarray as xr\n",
    "import matplotlib.pyplot as plt\n",
    "from sgkit.stats import regenie\n",
    "from sgkit.tests import test_regenie\n",
    "from sgkit.stats.association import linear_regression\n",
    "from sklearn.metrics import r2_score as sk_r2\n",
    "from sgkit.stats.regenie import r2_score as sg_r2\n",
    "from pathlib import Path\n",
    "import sgkit as sg\n",
    "import yaml\n",
    "xr.set_options(display_style='text')\n",
    "%load_ext autoreload\n",
    "%autoreload 2"
   ]
  },
  {
   "cell_type": "markdown",
   "metadata": {},
   "source": [
    "### Load Simulated Data"
   ]
  },
  {
   "cell_type": "code",
   "execution_count": 2,
   "metadata": {},
   "outputs": [],
   "source": [
    "dataset = 'sim_sm_03'\n",
    "paramset = 'wgr_01'"
   ]
  },
  {
   "cell_type": "code",
   "execution_count": 3,
   "metadata": {},
   "outputs": [
    {
     "data": {
      "text/plain": [
       "(PosixPath('data/dataset/sim_sm_03'),\n",
       " PosixPath('data/result/sim_sm_03-wgr_01'))"
      ]
     },
     "execution_count": 3,
     "metadata": {},
     "output_type": "execute_result"
    }
   ],
   "source": [
    "dataset_dir = Path('data/dataset/' + dataset)\n",
    "result_dir = Path('data/result/' + dataset + '-' + paramset)\n",
    "dataset_dir, result_dir"
   ]
  },
  {
   "cell_type": "code",
   "execution_count": 4,
   "metadata": {},
   "outputs": [
    {
     "data": {
      "text/plain": [
       "({'n_variants': 250,\n",
       "  'n_samples': 50,\n",
       "  'n_covars': 3,\n",
       "  'n_contigs': 10,\n",
       "  'n_traits': 1},\n",
       " {'variant_block_size': 10, 'sample_block_size': 10, 'alphas': [1000]})"
      ]
     },
     "execution_count": 4,
     "metadata": {},
     "output_type": "execute_result"
    }
   ],
   "source": [
    "with open('config.yml') as fd:\n",
    "    config = yaml.load(fd, Loader=yaml.FullLoader)\n",
    "ds_config, ps_config = config['datasets'][dataset], config['paramsets'][paramset]\n",
    "ds_config, ps_config"
   ]
  },
  {
   "cell_type": "code",
   "execution_count": 5,
   "metadata": {},
   "outputs": [
    {
     "data": {
      "text/html": [
       "<pre>&lt;xarray.Dataset&gt;\n",
       "Dimensions:             (alleles: 2, ploidy: 2, samples: 50, variants: 250)\n",
       "Dimensions without coordinates: alleles, ploidy, samples, variants\n",
       "Data variables:\n",
       "    variant/contig      (variants) int16 dask.array&lt;chunksize=(250,), meta=np.ndarray&gt;\n",
       "    variant/position    (variants) int32 dask.array&lt;chunksize=(250,), meta=np.ndarray&gt;\n",
       "    variant/alleles     (variants, alleles) |S1 dask.array&lt;chunksize=(250, 1), meta=np.ndarray&gt;\n",
       "    sample/id           (samples) &lt;U1 dask.array&lt;chunksize=(50,), meta=np.ndarray&gt;\n",
       "    call/genotype       (variants, samples, ploidy) int8 dask.array&lt;chunksize=(250, 50, 2), meta=np.ndarray&gt;\n",
       "    call/genotype_mask  (variants, samples, ploidy) bool dask.array&lt;chunksize=(250, 50, 2), meta=np.ndarray&gt;\n",
       "    variant/id          (variants) &lt;U1 dask.array&lt;chunksize=(250,), meta=np.ndarray&gt;\n",
       "    sample/family_id    (samples) &lt;U1 dask.array&lt;chunksize=(50,), meta=np.ndarray&gt;\n",
       "    sample/paternal_id  (samples) &lt;U1 dask.array&lt;chunksize=(50,), meta=np.ndarray&gt;\n",
       "    sample/maternal_id  (samples) &lt;U1 dask.array&lt;chunksize=(50,), meta=np.ndarray&gt;\n",
       "    sample/sex          (samples) int8 dask.array&lt;chunksize=(50,), meta=np.ndarray&gt;\n",
       "    sample/phenotype    (samples) int8 dask.array&lt;chunksize=(50,), meta=np.ndarray&gt;\n",
       "Attributes:\n",
       "    contigs:  [&#x27;1&#x27;, &#x27;2&#x27;, &#x27;3&#x27;, &#x27;4&#x27;, &#x27;5&#x27;, &#x27;6&#x27;, &#x27;7&#x27;, &#x27;8&#x27;, &#x27;9&#x27;, &#x27;10&#x27;]</pre>"
      ],
      "text/plain": [
       "<xarray.Dataset>\n",
       "Dimensions:             (alleles: 2, ploidy: 2, samples: 50, variants: 250)\n",
       "Dimensions without coordinates: alleles, ploidy, samples, variants\n",
       "Data variables:\n",
       "    variant/contig      (variants) int16 dask.array<chunksize=(250,), meta=np.ndarray>\n",
       "    variant/position    (variants) int32 dask.array<chunksize=(250,), meta=np.ndarray>\n",
       "    variant/alleles     (variants, alleles) |S1 dask.array<chunksize=(250, 1), meta=np.ndarray>\n",
       "    sample/id           (samples) <U1 dask.array<chunksize=(50,), meta=np.ndarray>\n",
       "    call/genotype       (variants, samples, ploidy) int8 dask.array<chunksize=(250, 50, 2), meta=np.ndarray>\n",
       "    call/genotype_mask  (variants, samples, ploidy) bool dask.array<chunksize=(250, 50, 2), meta=np.ndarray>\n",
       "    variant/id          (variants) <U1 dask.array<chunksize=(250,), meta=np.ndarray>\n",
       "    sample/family_id    (samples) <U1 dask.array<chunksize=(50,), meta=np.ndarray>\n",
       "    sample/paternal_id  (samples) <U1 dask.array<chunksize=(50,), meta=np.ndarray>\n",
       "    sample/maternal_id  (samples) <U1 dask.array<chunksize=(50,), meta=np.ndarray>\n",
       "    sample/sex          (samples) int8 dask.array<chunksize=(50,), meta=np.ndarray>\n",
       "    sample/phenotype    (samples) int8 dask.array<chunksize=(50,), meta=np.ndarray>\n",
       "Attributes:\n",
       "    contigs:  ['1', '2', '3', '4', '5', '6', '7', '8', '9', '10']"
      ]
     },
     "execution_count": 5,
     "metadata": {},
     "output_type": "execute_result"
    }
   ],
   "source": [
    "ds = sgkit_plink.read_plink(str(dataset_dir / 'genotypes'), bim_int_contig=True)\n",
    "ds"
   ]
  },
  {
   "cell_type": "markdown",
   "metadata": {},
   "source": [
    "### Apply REGENIE"
   ]
  },
  {
   "cell_type": "code",
   "execution_count": 6,
   "metadata": {},
   "outputs": [
    {
     "data": {
      "text/html": [
       "<div>\n",
       "<style scoped>\n",
       "    .dataframe tbody tr th:only-of-type {\n",
       "        vertical-align: middle;\n",
       "    }\n",
       "\n",
       "    .dataframe tbody tr th {\n",
       "        vertical-align: top;\n",
       "    }\n",
       "\n",
       "    .dataframe thead th {\n",
       "        text-align: right;\n",
       "    }\n",
       "</style>\n",
       "<table border=\"1\" class=\"dataframe\">\n",
       "  <thead>\n",
       "    <tr style=\"text-align: right;\">\n",
       "      <th></th>\n",
       "      <th>X000</th>\n",
       "      <th>X001</th>\n",
       "      <th>X002</th>\n",
       "    </tr>\n",
       "    <tr>\n",
       "      <th>sample_id</th>\n",
       "      <th></th>\n",
       "      <th></th>\n",
       "      <th></th>\n",
       "    </tr>\n",
       "  </thead>\n",
       "  <tbody>\n",
       "    <tr>\n",
       "      <th>S0000001</th>\n",
       "      <td>1.403492</td>\n",
       "      <td>0.187771</td>\n",
       "      <td>1.146020</td>\n",
       "    </tr>\n",
       "    <tr>\n",
       "      <th>S0000002</th>\n",
       "      <td>1.854252</td>\n",
       "      <td>1.652777</td>\n",
       "      <td>-0.902967</td>\n",
       "    </tr>\n",
       "    <tr>\n",
       "      <th>S0000003</th>\n",
       "      <td>0.634048</td>\n",
       "      <td>-0.362843</td>\n",
       "      <td>0.012637</td>\n",
       "    </tr>\n",
       "    <tr>\n",
       "      <th>S0000004</th>\n",
       "      <td>0.124066</td>\n",
       "      <td>-0.067924</td>\n",
       "      <td>1.644158</td>\n",
       "    </tr>\n",
       "    <tr>\n",
       "      <th>S0000005</th>\n",
       "      <td>0.455337</td>\n",
       "      <td>-0.090256</td>\n",
       "      <td>0.585722</td>\n",
       "    </tr>\n",
       "  </tbody>\n",
       "</table>\n",
       "</div>"
      ],
      "text/plain": [
       "               X000      X001      X002\n",
       "sample_id                              \n",
       "S0000001   1.403492  0.187771  1.146020\n",
       "S0000002   1.854252  1.652777 -0.902967\n",
       "S0000003   0.634048 -0.362843  0.012637\n",
       "S0000004   0.124066 -0.067924  1.644158\n",
       "S0000005   0.455337 -0.090256  0.585722"
      ]
     },
     "execution_count": 6,
     "metadata": {},
     "output_type": "execute_result"
    }
   ],
   "source": [
    "df_cov = test_regenie.load_covariates(dataset_dir)\n",
    "df_cov.head()"
   ]
  },
  {
   "cell_type": "code",
   "execution_count": 7,
   "metadata": {},
   "outputs": [
    {
     "data": {
      "text/html": [
       "<div>\n",
       "<style scoped>\n",
       "    .dataframe tbody tr th:only-of-type {\n",
       "        vertical-align: middle;\n",
       "    }\n",
       "\n",
       "    .dataframe tbody tr th {\n",
       "        vertical-align: top;\n",
       "    }\n",
       "\n",
       "    .dataframe thead th {\n",
       "        text-align: right;\n",
       "    }\n",
       "</style>\n",
       "<table border=\"1\" class=\"dataframe\">\n",
       "  <thead>\n",
       "    <tr style=\"text-align: right;\">\n",
       "      <th></th>\n",
       "      <th>Y0000</th>\n",
       "    </tr>\n",
       "    <tr>\n",
       "      <th>sample_id</th>\n",
       "      <th></th>\n",
       "    </tr>\n",
       "  </thead>\n",
       "  <tbody>\n",
       "    <tr>\n",
       "      <th>S0000001</th>\n",
       "      <td>-1.030415</td>\n",
       "    </tr>\n",
       "    <tr>\n",
       "      <th>S0000002</th>\n",
       "      <td>0.405862</td>\n",
       "    </tr>\n",
       "    <tr>\n",
       "      <th>S0000003</th>\n",
       "      <td>1.107564</td>\n",
       "    </tr>\n",
       "    <tr>\n",
       "      <th>S0000004</th>\n",
       "      <td>1.018582</td>\n",
       "    </tr>\n",
       "    <tr>\n",
       "      <th>S0000005</th>\n",
       "      <td>0.121986</td>\n",
       "    </tr>\n",
       "  </tbody>\n",
       "</table>\n",
       "</div>"
      ],
      "text/plain": [
       "              Y0000\n",
       "sample_id          \n",
       "S0000001  -1.030415\n",
       "S0000002   0.405862\n",
       "S0000003   1.107564\n",
       "S0000004   1.018582\n",
       "S0000005   0.121986"
      ]
     },
     "execution_count": 7,
     "metadata": {},
     "output_type": "execute_result"
    }
   ],
   "source": [
    "df_trait = test_regenie.load_traits(dataset_dir)\n",
    "df_trait.head()"
   ]
  },
  {
   "cell_type": "code",
   "execution_count": 8,
   "metadata": {},
   "outputs": [
    {
     "data": {
      "text/plain": [
       "((250, 50), (50, 3), (50, 1), (250,))"
      ]
     },
     "execution_count": 8,
     "metadata": {},
     "output_type": "execute_result"
    }
   ],
   "source": [
    "contigs = ds['variant/contig'].values\n",
    "G = ds['call/genotype'].sum(dim='ploidy').values\n",
    "X = df_cov.values\n",
    "Y = df_trait.values\n",
    "G.shape, X.shape, Y.shape, contigs.shape"
   ]
  },
  {
   "cell_type": "code",
   "execution_count": 9,
   "metadata": {},
   "outputs": [],
   "source": [
    "res = regenie.regenie_transform(\n",
    "    G.T, X, Y, \n",
    "    contigs, \n",
    "    variant_block_size=ps_config['variant_block_size'], \n",
    "    sample_block_size=ps_config['sample_block_size'], \n",
    "    normalize=True, \n",
    "    alphas=ps_config['alphas'],\n",
    "    orthogonalize=False,\n",
    "    _glow_adj_dof=True,\n",
    "    _glow_adj_alpha=True,\n",
    "    _glow_adj_scaling=True\n",
    ")"
   ]
  },
  {
   "cell_type": "code",
   "execution_count": 10,
   "metadata": {},
   "outputs": [
    {
     "data": {
      "text/html": [
       "<pre>&lt;xarray.Dataset&gt;\n",
       "Dimensions:          (alphas: 1, blocks: 30, contigs: 10, outcomes: 1, samples: 50)\n",
       "Dimensions without coordinates: alphas, blocks, contigs, outcomes, samples\n",
       "Data variables:\n",
       "    regenie_base_prediction  (blocks, alphas, samples, outcomes) float64 dask.array&lt;chunksize=(1, 1, 10, 1), meta=np.ndarray&gt;\n",
       "    regenie_meta_prediction  (samples, outcomes) float64 dask.array&lt;chunksize=(10, 1), meta=np.ndarray&gt;\n",
       "    regenie_loco_prediction  (contigs, samples, outcomes) float64 dask.array&lt;chunksize=(1, 10, 1), meta=np.ndarray&gt;</pre>"
      ],
      "text/plain": [
       "<xarray.Dataset>\n",
       "Dimensions:          (alphas: 1, blocks: 30, contigs: 10, outcomes: 1, samples: 50)\n",
       "Dimensions without coordinates: alphas, blocks, contigs, outcomes, samples\n",
       "Data variables:\n",
       "    regenie_base_prediction  (blocks, alphas, samples, outcomes) float64 dask.array<chunksize=(1, 1, 10, 1), meta=np.ndarray>\n",
       "    regenie_meta_prediction  (samples, outcomes) float64 dask.array<chunksize=(10, 1), meta=np.ndarray>\n",
       "    regenie_loco_prediction  (contigs, samples, outcomes) float64 dask.array<chunksize=(1, 10, 1), meta=np.ndarray>"
      ]
     },
     "execution_count": 10,
     "metadata": {},
     "output_type": "execute_result"
    }
   ],
   "source": [
    "res"
   ]
  },
  {
   "cell_type": "markdown",
   "metadata": {},
   "source": [
    "### Self-Contained Example"
   ]
  },
  {
   "cell_type": "code",
   "execution_count": 11,
   "metadata": {},
   "outputs": [
    {
     "data": {
      "text/html": [
       "<pre>&lt;xarray.Dataset&gt;\n",
       "Dimensions:          (alphas: 5, blocks: 2, contigs: 2, outcomes: 5, samples: 50)\n",
       "Dimensions without coordinates: alphas, blocks, contigs, outcomes, samples\n",
       "Data variables:\n",
       "    regenie_base_prediction  (blocks, alphas, samples, outcomes) float64 0.3343 ... -...\n",
       "    regenie_meta_prediction  (samples, outcomes) float64 -0.4588 0.78 ... -0.3984 0.3734\n",
       "    regenie_loco_prediction  (contigs, samples, outcomes) float64 0.4886 ... -0.01498</pre>"
      ],
      "text/plain": [
       "<xarray.Dataset>\n",
       "Dimensions:          (alphas: 5, blocks: 2, contigs: 2, outcomes: 5, samples: 50)\n",
       "Dimensions without coordinates: alphas, blocks, contigs, outcomes, samples\n",
       "Data variables:\n",
       "    regenie_base_prediction  (blocks, alphas, samples, outcomes) float64 0.3343 ... -...\n",
       "    regenie_meta_prediction  (samples, outcomes) float64 -0.4588 0.78 ... -0.3984 0.3734\n",
       "    regenie_loco_prediction  (contigs, samples, outcomes) float64 0.4886 ... -0.01498"
      ]
     },
     "execution_count": 11,
     "metadata": {},
     "output_type": "execute_result"
    }
   ],
   "source": [
    "from sgkit.testing import simulate_genotype_call_dataset\n",
    "from sgkit.stats.regenie import regenie\n",
    "n_variant, n_sample, n_contig, n_covariate, n_trait = 100, 50, 2, 3, 5\n",
    "ds = simulate_genotype_call_dataset(n_variant=n_variant, n_sample=n_sample, n_contig=n_contig)\n",
    "rs = np.random.RandomState(0)\n",
    "G = rs.normal(size=(n_variant, n_sample))\n",
    "X = rs.normal(size=(n_sample, n_covariate))\n",
    "Y = rs.normal(size=(n_sample, n_trait))\n",
    "ds[\"call/dosage\"] = ((\"variants\", \"samples\"), G)\n",
    "ds[\"sample/covariate\"] = ((\"samples\", \"covariates\"), X)\n",
    "ds[\"sample/trait\"] = ((\"samples\", \"traits\"), Y)\n",
    "res = regenie(ds, dosage=\"call/dosage\", covariates=\"sample/covariate\", traits=\"sample/trait\")\n",
    "res.compute()"
   ]
  },
  {
   "cell_type": "markdown",
   "metadata": {},
   "source": [
    "### R2 Score"
   ]
  },
  {
   "cell_type": "code",
   "execution_count": 11,
   "metadata": {},
   "outputs": [
    {
     "name": "stdout",
     "output_type": "stream",
     "text": [
      "([1, 1], [1, 2], -1.0),\n",
      "([1, 0], [1, 2], -7.0),\n",
      "([1, -1, 3], [1, 2, 3], -3.5),\n",
      "([0, -1, 2], [1, 2, 3], -4.5),\n",
      "([3, 2, 1], [1, 2, 3], -3.0),\n",
      "([0, 0, 0], [1, 2, 3], -6.0),\n",
      "([1.1, 2.1, 3.1], [1, 2, 3], 0.985),\n",
      "([1.1, 1.9, 3.0], [1, 2, 3], 0.99),\n",
      "([1, 2, 3], [1, 2, 3], 1.0),\n",
      "([1, 1, 1], [1, 1, 1], 1.0),\n",
      "([1, 1, 1], [1, 2, 3], -1.5),\n",
      "([1, 2, 3], [1, 1, 1], 0.0),\n"
     ]
    }
   ],
   "source": [
    "pairs = [\n",
    "    ([1, 1], [1, 2]),\n",
    "    ([1, 0], [1, 2]),\n",
    "    ([1, -1, 3], [1, 2, 3]),\n",
    "    ([0, -1, 2], [1, 2, 3]),\n",
    "    ([3, 2, 1], [1, 2, 3]),\n",
    "    ([0, 0, 0], [1, 2, 3]),\n",
    "    ([1.1, 2.1, 3.1], [1, 2, 3]),\n",
    "    ([1.1, 1.9, 3.0], [1, 2, 3]),\n",
    "    ([1, 2, 3], [1, 2, 3]),\n",
    "    ([1, 1, 1], [1, 1, 1]),\n",
    "    ([1, 1, 1], [1, 2, 3]),\n",
    "    ([1, 2, 3], [1, 1, 1]),\n",
    "]\n",
    "res = []\n",
    "for pair in pairs:\n",
    "    yp, yt = pair\n",
    "    yp, yt = np.array(yp), np.array(yt)\n",
    "    res.append((list(yp), list(yt), sk_r2(yt, yp)))#, sg_r2(yp, yt)))\n",
    "print('\\n'.join(str(t) + ',' for t in res))"
   ]
  }
 ],
 "metadata": {
  "kernelspec": {
   "display_name": "Python 3",
   "language": "python",
   "name": "python3"
  },
  "language_info": {
   "codemirror_mode": {
    "name": "ipython",
    "version": 3
   },
   "file_extension": ".py",
   "mimetype": "text/x-python",
   "name": "python",
   "nbconvert_exporter": "python",
   "pygments_lexer": "ipython3",
   "version": "3.7.6"
  }
 },
 "nbformat": 4,
 "nbformat_minor": 4
}
